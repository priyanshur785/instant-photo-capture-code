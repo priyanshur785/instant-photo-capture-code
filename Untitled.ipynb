{
 "cells": [
  {
   "cell_type": "code",
   "execution_count": 1,
   "id": "3d204351",
   "metadata": {},
   "outputs": [
    {
     "name": "stdout",
     "output_type": "stream",
     "text": [
      "Image saved at: path/to/save/image.jpg\n"
     ]
    }
   ],
   "source": [
    "import os\n",
    "import cv2\n",
    "\n",
    "# Open the default camera\n",
    "camera = cv2.VideoCapture(0)\n",
    "\n",
    "# Check if the camera opened successfully\n",
    "if not camera.isOpened():\n",
    "    print(\"Failed to open camera\")\n",
    "    exit()\n",
    "\n",
    "# Read and display frames from the camera\n",
    "ret, frame = camera.read()\n",
    "\n",
    "if not ret:\n",
    "    print(\"Failed to capture frame\")\n",
    "else:\n",
    "    # Specify the desired image path and filename\n",
    "    save_path = \"path/to/save/image.jpg\"\n",
    "    cv2.imwrite(save_path, frame)\n",
    "    print(\"Image saved at:\", save_path)\n",
    "\n",
    "# Release the camera\n",
    "camera.release()\n"
   ]
  },
  {
   "cell_type": "code",
   "execution_count": null,
   "id": "511b4b3f",
   "metadata": {},
   "outputs": [],
   "source": []
  }
 ],
 "metadata": {
  "kernelspec": {
   "display_name": "Python 3 (ipykernel)",
   "language": "python",
   "name": "python3"
  },
  "language_info": {
   "codemirror_mode": {
    "name": "ipython",
    "version": 3
   },
   "file_extension": ".py",
   "mimetype": "text/x-python",
   "name": "python",
   "nbconvert_exporter": "python",
   "pygments_lexer": "ipython3",
   "version": "3.9.13"
  }
 },
 "nbformat": 4,
 "nbformat_minor": 5
}
